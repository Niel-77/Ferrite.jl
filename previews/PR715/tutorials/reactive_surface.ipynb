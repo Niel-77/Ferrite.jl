{
 "cells": [
  {
   "outputs": [
    {
     "output_type": "execute_result",
     "data": {
      "text/plain": "false"
     },
     "metadata": {},
     "execution_count": 1
    }
   ],
   "cell_type": "code",
   "source": [
    "if @isdefined is_ci    #hide\n",
    "    IS_CI = is_ci      #hide\n",
    "else                   #hide\n",
    "    IS_CI = false      #hide\n",
    "end                    #hide"
   ],
   "metadata": {},
   "execution_count": 1
  },
  {
   "cell_type": "markdown",
   "source": [
    "# Reactive Surface\n",
    "\n",
    "![](reactive_surface.gif)\n",
    "\n",
    "*Figure 1*: Reactant concentration field of the Gray-Scott model on the unit sphere."
   ],
   "metadata": {}
  },
  {
   "cell_type": "markdown",
   "source": [
    "## Introduction\n",
    "\n",
    "This tutorial gives a quick tutorial on how to assemble and solve time-dependent problems\n",
    "on embedded surfaces.\n",
    "\n",
    "For this showcase we use the well known Gray-Scott model, which is a well-known reaction-diffusion\n",
    "system to study pattern formation. The strong form is given by\n",
    "\n",
    "$$\n",
    " \\begin{aligned}\n",
    "   \\partial_t r_1 &= \\nabla \\cdot (D_1 \\nabla r_1) - r_1*r_2^2 + F *(1 - r_1) \\quad \\textbf{x} \\in \\Omega, \\\\\n",
    "   \\partial_t r_2 &= \\nabla \\cdot (D_2 \\nabla r_2) + r_1*r_2^2 - r_2*(F + k ) \\quad \\textbf{x} \\in \\Omega,\n",
    " \\end{aligned}\n",
    "$$\n",
    "\n",
    "where $r_1$ and $r_2$ are the reaction fields, $D_1$ and $D_2$ the diffusion tensors,\n",
    "$k$ is the conversion rate, $F$ is the feed rate and $\\Omega$ the domain. Depending on the choice of\n",
    "parameters a different pattern can be observed. Please also note that the domain does not have a\n",
    "boundary. The corresponding weak form can be derived as usual.\n",
    "\n",
    "For simplicity we will solve the problem with the Lie-Troter-Godunov operator splitting technique with\n",
    "the classical reaction-diffusion split. In this method we split our problem in two problems, i.e. a heat\n",
    "problem and a pointwise reaction problem, and solve them alternatingly to advance in time."
   ],
   "metadata": {}
  },
  {
   "cell_type": "markdown",
   "source": [
    "## Commented Program\n",
    "\n",
    "Now we solve the problem in Ferrite. What follows is a program spliced with comments.\n",
    "\n",
    "First we load Ferrite, and some other packages we need"
   ],
   "metadata": {}
  },
  {
   "outputs": [],
   "cell_type": "code",
   "source": [
    "using Ferrite, FerriteGmsh\n",
    "using BlockArrays, SparseArrays, LinearAlgebra"
   ],
   "metadata": {},
   "execution_count": 2
  },
  {
   "cell_type": "markdown",
   "source": [
    "### Assembly routines\n",
    "The following assembly routines are similar to these found in previous tutorials."
   ],
   "metadata": {}
  },
  {
   "outputs": [
    {
     "output_type": "execute_result",
     "data": {
      "text/plain": "assemble_matrices! (generic function with 1 method)"
     },
     "metadata": {},
     "execution_count": 3
    }
   ],
   "cell_type": "code",
   "source": [
    "function assemble_element_mass!(Me::Matrix, cellvalues::CellValues)\n",
    "    n_basefuncs = getnbasefunctions(cellvalues)\n",
    "    # Reset to 0\n",
    "    fill!(Me, 0)\n",
    "    # Loop over quadrature points\n",
    "    for q_point in 1:getnquadpoints(cellvalues)\n",
    "        # Get the quadrature weight\n",
    "        dΩ = getdetJdV(cellvalues, q_point)\n",
    "        # Loop over test shape functions\n",
    "        for i in 1:n_basefuncs\n",
    "            δuᵢ = shape_value(cellvalues, q_point, i)\n",
    "            # Loop over trial shape functions\n",
    "            for j in 1:n_basefuncs\n",
    "                δuⱼ = shape_value(cellvalues, q_point, j)\n",
    "                # Add contribution to Ke\n",
    "                Me[2*i-1, 2*j-1] += (δuᵢ * δuⱼ) * dΩ\n",
    "                Me[2*i  , 2*j  ] += (δuᵢ * δuⱼ) * dΩ\n",
    "            end\n",
    "        end\n",
    "    end\n",
    "    return nothing\n",
    "end\n",
    "\n",
    "function assemble_element_diffusion!(De::Matrix, cellvalues::CellValues)\n",
    "    n_basefuncs = getnbasefunctions(cellvalues)\n",
    "    # Reset to 0\n",
    "    fill!(De, 0)\n",
    "    # Loop over quadrature points\n",
    "    for q_point in 1:getnquadpoints(cellvalues)\n",
    "        # Get the quadrature weight\n",
    "        dΩ = getdetJdV(cellvalues, q_point)\n",
    "        # Loop over test shape functions\n",
    "        for i in 1:n_basefuncs\n",
    "            ∇δuᵢ = shape_gradient(cellvalues, q_point, i)\n",
    "            # Loop over trial shape functions\n",
    "            for j in 1:n_basefuncs\n",
    "                ∇δuⱼ = shape_gradient(cellvalues, q_point, j)\n",
    "                # Add contribution to Ke\n",
    "                De[2*i-1, 2*j-1] += 2*0.00008 * (∇δuᵢ ⋅ ∇δuⱼ) * dΩ\n",
    "                De[2*i  , 2*j  ] += 2*0.00004 * (∇δuᵢ ⋅ ∇δuⱼ) * dΩ\n",
    "            end\n",
    "        end\n",
    "    end\n",
    "    return nothing\n",
    "end\n",
    "\n",
    "function assemble_matrices!(M::SparseMatrixCSC, D::SparseMatrixCSC, cellvalues::CellValues, dh::DofHandler)\n",
    "    n_basefuncs = getnbasefunctions(cellvalues)\n",
    "\n",
    "    # Allocate the element stiffness matrix and element force vector\n",
    "    Me = zeros(2*n_basefuncs, 2*n_basefuncs)\n",
    "    De = zeros(2*n_basefuncs, 2*n_basefuncs)\n",
    "\n",
    "    # Create an assembler\n",
    "    M_assembler = start_assemble(M)\n",
    "    D_assembler = start_assemble(D)\n",
    "    # Loop over all cels\n",
    "    for cell in CellIterator(dh)\n",
    "        # Reinitialize cellvalues for this cell\n",
    "        reinit!(cellvalues, cell)\n",
    "        # Compute element contribution\n",
    "        assemble_element_mass!(Me, cellvalues)\n",
    "        assemble!(M_assembler, celldofs(cell), Me)\n",
    "\n",
    "        assemble_element_diffusion!(De, cellvalues)\n",
    "        assemble!(D_assembler, celldofs(cell), De)\n",
    "    end\n",
    "    return nothing\n",
    "end"
   ],
   "metadata": {},
   "execution_count": 3
  },
  {
   "cell_type": "markdown",
   "source": [
    "### Initial condition setup\n",
    "Time-dependent problems always need an initial condition from which the time evolution starts.\n",
    "In this tutorial we set the concentration of reactant 1 to $1$ and the concentration of reactant\n",
    "2 to $0$ for all nodal dof with associated coordinate $z \\leq 0.9$ on the sphere. Since the\n",
    "simulation would be pretty boring with a steady-state initial condition, we introduce some\n",
    "heterogeneity by setting the dofs associated to top part of the sphere (i.e. dofs with $z > 0.9$\n",
    "to store the reactant concentrations of $0.5$ and $0.25$ for the reactants 1 and 2 respectively."
   ],
   "metadata": {}
  },
  {
   "outputs": [
    {
     "output_type": "execute_result",
     "data": {
      "text/plain": "setup_initial_conditions! (generic function with 1 method)"
     },
     "metadata": {},
     "execution_count": 4
    }
   ],
   "cell_type": "code",
   "source": [
    "function setup_initial_conditions!(u₀::Vector, cellvalues::CellValues, dh::DofHandler)\n",
    "    u₀ .= ones(ndofs(dh))\n",
    "    u₀[2:2:end] .= 0.0\n",
    "\n",
    "    n_basefuncs = getnbasefunctions(cellvalues)\n",
    "\n",
    "    for cell in CellIterator(dh)\n",
    "        reinit!(cellvalues, cell)\n",
    "\n",
    "        coords = getcoordinates(cell)\n",
    "        dofs = celldofs(cell)\n",
    "        uₑ = @view u₀[dofs]\n",
    "        rv₀ₑ = reshape(uₑ, (2, n_basefuncs))\n",
    "\n",
    "        for i in 1:n_basefuncs\n",
    "            if coords[i][3] > 0.9\n",
    "                rv₀ₑ[1, i] = 0.5\n",
    "                rv₀ₑ[2, i] = 0.25\n",
    "            end\n",
    "        end\n",
    "    end\n",
    "\n",
    "    u₀ .+= 0.01*rand(ndofs(dh))\n",
    "end"
   ],
   "metadata": {},
   "execution_count": 4
  },
  {
   "cell_type": "markdown",
   "source": [
    "### Simulation routines\n",
    "Now we define a function to setup and solve the problem with given feed and conversion rates\n",
    "$F$ and $k$, as well as the time step length and for how long we want to solve the model."
   ],
   "metadata": {}
  },
  {
   "outputs": [
    {
     "name": "stdout",
     "output_type": "stream",
     "text": [
      "Info    : Meshing 1D...\n",
      "Info    : [ 40%] Meshing curve 2 (Circle)\n",
      "Info    : Done meshing 1D (Wall 0.000148267s, CPU 0.000137s)\n",
      "Info    : Meshing 2D...\n",
      "Info    : Meshing surface 1 (Sphere, Frontal-Delaunay)\n",
      "Info    : Done meshing 2D (Wall 0.00930878s, CPU 0.009306s)\n",
      "Info    : 160 nodes 328 elements\n",
      "Info    : Refining mesh...\n",
      "Info    : Meshing order 2 (curvilinear on)...\n",
      "Info    : [  0%] Meshing curve 1 order 2\n",
      "Info    : [ 20%] Meshing curve 2 order 2\n",
      "Info    : [ 40%] Meshing curve 3 order 2\n",
      "Info    : [ 60%] Meshing surface 1 order 2\n",
      "Info    : [ 80%] Meshing volume 1 order 2\n",
      "Info    : Surface mesh: worst distortion = 0.970866 (0 elements in ]0, 0.2]); worst gamma = 0.433887\n",
      "Info    : Done meshing order 2 (Wall 0.00111191s, CPU 0.001111s)\n",
      "Info    : Done refining mesh (Wall 0.00144984s, CPU 0.00145s)\n",
      "Info    : Refining mesh...\n",
      "Info    : Meshing order 2 (curvilinear on)...\n",
      "Info    : [  0%] Meshing curve 1 order 2\n",
      "Info    : [ 20%] Meshing curve 2 order 2\n",
      "Info    : [ 40%] Meshing curve 3 order 2\n",
      "Info    : [ 60%] Meshing surface 1 order 2\n",
      "Info    : [ 80%] Meshing volume 1 order 2\n",
      "Info    : Surface mesh: worst distortion = 0.992408 (0 elements in ]0, 0.2]); worst gamma = 0.421451\n",
      "Info    : Done meshing order 2 (Wall 0.00401391s, CPU 0.004014s)\n",
      "Info    : Done refining mesh (Wall 0.0051903s, CPU 0.005189s)\n",
      "Info    : Refining mesh...\n",
      "Info    : Meshing order 2 (curvilinear on)...\n",
      "Info    : [  0%] Meshing curve 1 order 2\n",
      "Info    : [ 20%] Meshing curve 2 order 2\n",
      "Info    : [ 40%] Meshing curve 3 order 2\n",
      "Info    : [ 60%] Meshing surface 1 order 2\n",
      "Info    : [ 80%] Meshing volume 1 order 2\n",
      "Info    : Surface mesh: worst distortion = 0.998082 (0 elements in ]0, 0.2]); worst gamma = 0.418317\n",
      "Info    : Done meshing order 2 (Wall 0.014813s, CPU 0.014813s)\n",
      "Info    : Done refining mesh (Wall 0.0194527s, CPU 0.019452s)\n"
     ]
    },
    {
     "output_type": "execute_result",
     "data": {
      "text/plain": "322-element Vector{String}:\n \"reactive-surface.pvd\"\n \"reactive-surface_1.vtu\"\n \"reactive-surface_2.vtu\"\n \"reactive-surface_3.vtu\"\n \"reactive-surface_4.vtu\"\n \"reactive-surface_5.vtu\"\n \"reactive-surface_6.vtu\"\n \"reactive-surface_7.vtu\"\n \"reactive-surface_8.vtu\"\n \"reactive-surface_9.vtu\"\n ⋮\n \"reactive-surface_313.vtu\"\n \"reactive-surface_314.vtu\"\n \"reactive-surface_315.vtu\"\n \"reactive-surface_316.vtu\"\n \"reactive-surface_317.vtu\"\n \"reactive-surface_318.vtu\"\n \"reactive-surface_319.vtu\"\n \"reactive-surface_320.vtu\"\n \"reactive-surface_321.vtu\""
     },
     "metadata": {},
     "execution_count": 5
    }
   ],
   "cell_type": "code",
   "source": [
    "function gray_scott_sphere(F, k, Δt, T, refinements)\n",
    "    # We start by setting up grid, dof handler and the matrices for the heat problem.\n",
    "    gmsh.initialize()\n",
    "\n",
    "    # Add a unit sphere\n",
    "    gmsh.model.occ.addSphere(0.0,0.0,0.0,1.0)\n",
    "    gmsh.model.occ.synchronize()\n",
    "\n",
    "    gmsh.model.mesh.renumberNodes()\n",
    "    gmsh.model.mesh.renumberElements()\n",
    "\n",
    "    # Generate surface elements and refine several times\n",
    "    gmsh.model.mesh.generate(2)\n",
    "    for _ in 1:refinements\n",
    "        gmsh.model.mesh.refine()\n",
    "    end\n",
    "\n",
    "    # Create a grid out of it\n",
    "    nodes = tonodes()\n",
    "    elements, _ = toelements(2)\n",
    "    gmsh.finalize()\n",
    "    grid = Grid(elements, nodes);\n",
    "\n",
    "    ip = Lagrange{RefTriangle, 1}()\n",
    "    ip_geo = Lagrange{RefTriangle, 1}()\n",
    "    qr = QuadratureRule{RefTriangle}(2)\n",
    "    cellvalues = CellValues(qr, ip, ip_geo^3);\n",
    "\n",
    "    dh = DofHandler(grid);\n",
    "    add!(dh, :reactants, ip^2);\n",
    "    close!(dh);\n",
    "\n",
    "    M = create_sparsity_pattern(dh; coupling=[true false;false true])\n",
    "    D = create_sparsity_pattern(dh; coupling=[true false;false true])\n",
    "    assemble_matrices!(M, D, cellvalues, dh);\n",
    "\n",
    "    # Since the heat problem is linear and has no time dependent parameters, we precompute the\n",
    "    # decomposition of the system matrix to speed up the linear system solver.\n",
    "    A = M + Δt .* D\n",
    "    Alu = cholesky(A)\n",
    "\n",
    "    # Now we setup buffers for the time dependent solution and fill the initial condition.\n",
    "    uₜ   = zeros(ndofs(dh))\n",
    "    uₜ₋₁ = ones(ndofs(dh))\n",
    "    setup_initial_conditions!(uₜ₋₁, cellvalues, dh)\n",
    "\n",
    "    # And prepare output for visualization.\n",
    "    pvd = VTKFileCollection(\"reactive-surface.pvd\", dh);\n",
    "    addstep!(pvd, 0.0) do io\n",
    "        write_solution(io, dh, uₜ₋₁)\n",
    "    end\n",
    "\n",
    "    # This is now the main solve loop.\n",
    "    for (iₜ, t) ∈ enumerate(Δt:Δt:T)\n",
    "        # First we solve the heat problem\n",
    "        uₜ .= Alu \\ (M * uₜ₋₁)\n",
    "\n",
    "        # Then we solve the point-wise reaction problem with the solution of\n",
    "        # the heat problem as initial guess.\n",
    "        rvₜ = reshape(uₜ, (2, length(grid.nodes)))\n",
    "        for i ∈ 1:length(grid.nodes)\n",
    "            r₁ = rvₜ[1, i]\n",
    "            r₂ = rvₜ[2, i]\n",
    "            rvₜ[1, i] += Δt*( -r₁*r₂^2 + F *(1 - r₁) )\n",
    "            rvₜ[2, i] += Δt*(  r₁*r₂^2 - r₂*(F + k ) )\n",
    "        end\n",
    "\n",
    "        # The solution is then stored every 10th step to vtk files for\n",
    "        # later visualization purposes.\n",
    "        if (iₜ % 10) == 0\n",
    "            addstep!(pvd, t) do io\n",
    "                write_solution(io, dh, uₜ₋₁)\n",
    "            end\n",
    "        end\n",
    "\n",
    "        # Finally we totate the solution to initialize the next timestep.\n",
    "        uₜ₋₁ .= uₜ\n",
    "    end\n",
    "\n",
    "    close(pvd);\n",
    "end\n",
    "\n",
    "# This parametrization gives the spot pattern shown in the gif above.\n",
    "gray_scott_sphere(0.06, 0.062, 10.0, 32000.0, 3)"
   ],
   "metadata": {},
   "execution_count": 5
  },
  {
   "cell_type": "markdown",
   "source": [
    "---\n",
    "\n",
    "*This notebook was generated using [Literate.jl](https://github.com/fredrikekre/Literate.jl).*"
   ],
   "metadata": {}
  }
 ],
 "nbformat_minor": 3,
 "metadata": {
  "language_info": {
   "file_extension": ".jl",
   "mimetype": "application/julia",
   "name": "julia",
   "version": "1.10.3"
  },
  "kernelspec": {
   "name": "julia-1.10",
   "display_name": "Julia 1.10.3",
   "language": "julia"
  }
 },
 "nbformat": 4
}
