{
 "cells": [
  {
   "cell_type": "markdown",
   "source": [
    "# Heat equation (Mixed, RaviartThomas)\n",
    "\n",
    "## Strong form\n",
    "$$\n",
    "\\nabla \\cdot \\boldsymbol{q} = h \\in \\Omega \\\\\n",
    "\\boldsymbol{q} = - k\\ \\nabla u \\in \\Omega \\\\\n",
    "\\boldsymbol{q}\\cdot \\boldsymbol{n} = q_n \\in \\Gamma_\\mathrm{N}\\\\\n",
    "u = u_\\mathrm{D} \\in \\Gamma_\\mathrm{D}\n",
    "$$\n",
    "\n",
    "## Weak form\n",
    "### Part 1\n",
    "$$\n",
    "\\int_{\\Omega} \\delta u \\nabla \\cdot \\boldsymbol{q}\\ \\mathrm{d}\\Omega = \\int_{\\Omega} \\delta u\\ h\\ \\mathrm{d}\\Omega \\\\\n",
    "\\int_{\\Gamma} \\delta u \\boldsymbol{n} \\cdot \\boldsymbol{q}\\ \\mathrm{d}\\Gamma -\n",
    "\\int_{\\Omega} \\nabla (\\delta u) \\cdot \\boldsymbol{q}\\ \\mathrm{d}\\Omega = \\int_{\\Omega} \\delta u\\ h\\ \\mathrm{d}\\Omega \\\\\n",
    "$$\n",
    "\n",
    "### Part 2\n",
    "$$\n",
    "\\int_{\\Omega} \\boldsymbol{\\delta q} \\cdot \\boldsymbol{q}\\ \\mathrm{d}\\Omega = - \\int_{\\Omega} \\boldsymbol{\\delta q} \\cdot \\left[k\\ \\nabla u\\right]\\ \\mathrm{d}\\Omega\n",
    "$$\n",
    "where no Green-Gauss theorem is applied.\n",
    "\n",
    "### Summary\n",
    "The weak form becomes, find $u\\in H^1$ and $\\boldsymbol{q} \\in H\\mathrm{(div)}$, such that\n",
    "$$\n",
    "\\begin{align*}\n",
    "-\\int_{\\Omega} \\nabla (\\delta u) \\cdot \\boldsymbol{q}\\ \\mathrm{d}\\Omega &= \\int_{\\Omega} \\delta u\\ h\\ \\mathrm{d}\\Omega -\n",
    "\\int_{\\Gamma} \\delta u\\ q_\\mathrm{n}\\ \\mathrm{d}\\Gamma\n",
    "\\quad\n",
    "\\forall\\ \\delta u \\in \\delta H^1 \\\\\n",
    "\\int_{\\Omega} \\boldsymbol{\\delta q} \\cdot \\boldsymbol{q}\\ \\mathrm{d}\\Omega &= - \\int_{\\Omega} \\boldsymbol{\\delta q} \\cdot \\left[k\\ \\nabla u\\right]\\ \\mathrm{d}\\Omega\n",
    " \\quad \\forall\\ \\boldsymbol{\\delta q} \\in \\delta H\\mathrm{(div)}\n",
    "\\end{align*}\n",
    "$$\n",
    "\n",
    "## Commented Program\n",
    "\n",
    "Now we solve the problem in Ferrite. What follows is a program spliced with comments.\n",
    "\n",
    "First we load Ferrite, and some other packages we need"
   ],
   "metadata": {}
  },
  {
   "outputs": [],
   "cell_type": "code",
   "source": [
    "using Ferrite, SparseArrays"
   ],
   "metadata": {},
   "execution_count": 1
  },
  {
   "cell_type": "markdown",
   "source": [
    "We start by generating a simple grid with 20x20 quadrilateral elements\n",
    "using `generate_grid`. The generator defaults to the unit square,\n",
    "so we don't need to specify the corners of the domain."
   ],
   "metadata": {}
  },
  {
   "outputs": [],
   "cell_type": "code",
   "source": [
    "#grid = generate_grid(QuadraticTriangle, (20, 20));\n",
    "grid = generate_grid(Triangle, (20, 20));"
   ],
   "metadata": {},
   "execution_count": 2
  },
  {
   "cell_type": "markdown",
   "source": [
    "### Trial and test functions\n",
    "A `CellValues` facilitates the process of evaluating values and gradients of\n",
    "test and trial functions (among other things). To define\n",
    "this we need to specify an interpolation space for the shape functions.\n",
    "We use Lagrange functions\n",
    "based on the two-dimensional reference quadrilateral. We also define a quadrature rule based on\n",
    "the same reference element. We combine the interpolation and the quadrature rule\n",
    "to a `CellValues` object."
   ],
   "metadata": {}
  },
  {
   "outputs": [
    {
     "output_type": "execute_result",
     "data": {
      "text/plain": "(u = CellValues{Ferrite.FunctionValues{1, Lagrange{RefTriangle, 1, Nothing}, Matrix{Float64}, Matrix{Vec{2, Float64}}, Matrix{Vec{2, Float64}}}, Ferrite.GeometryMapping{1, Lagrange{RefTriangle, 1, Nothing}, Matrix{Float64}, Matrix{Vec{2, Float64}}, Nothing}, QuadratureRule{RefTriangle, Float64, 2}, Vector{Float64}}(Ferrite.FunctionValues{1, Lagrange{RefTriangle, 1, Nothing}, Matrix{Float64}, Matrix{Vec{2, Float64}}, Matrix{Vec{2, Float64}}}(Lagrange{RefTriangle, 1}(), [0.16666666666667 0.16666666666667 0.66666666666667; 0.16666666666667 0.66666666666667 0.16666666666667; 0.6666666666666601 0.16666666666666008 0.16666666666666005], [0.16666666666667 0.16666666666667 0.66666666666667; 0.16666666666667 0.66666666666667 0.16666666666667; 0.6666666666666601 0.16666666666666008 0.16666666666666005], Vec{2, Float64}[[NaN, NaN] [NaN, NaN] [NaN, NaN]; [NaN, NaN] [NaN, NaN] [NaN, NaN]; [NaN, NaN] [NaN, NaN] [NaN, NaN]], Vec{2, Float64}[[1.0, 0.0] [1.0, 0.0] [1.0, 0.0]; [0.0, 1.0] [0.0, 1.0] [0.0, 1.0]; [-1.0, -1.0] [-1.0, -1.0] [-1.0, -1.0]]), Ferrite.GeometryMapping{1, Lagrange{RefTriangle, 1, Nothing}, Matrix{Float64}, Matrix{Vec{2, Float64}}, Nothing}(Lagrange{RefTriangle, 1}(), [0.16666666666667 0.16666666666667 0.66666666666667; 0.16666666666667 0.66666666666667 0.16666666666667; 0.6666666666666601 0.16666666666666008 0.16666666666666005], Vec{2, Float64}[[1.0, 0.0] [1.0, 0.0] [1.0, 0.0]; [0.0, 1.0] [0.0, 1.0] [0.0, 1.0]; [-1.0, -1.0] [-1.0, -1.0] [-1.0, -1.0]], nothing), QuadratureRule{RefTriangle, Float64, 2}([0.166666666666665, 0.166666666666665, 0.166666666666665], Vec{2, Float64}[[0.16666666666667, 0.16666666666667], [0.16666666666667, 0.66666666666667], [0.66666666666667, 0.16666666666667]]), [NaN, NaN, NaN]), q = CellValues{Ferrite.FunctionValues{1, RaviartThomas{2, RefTriangle, 1}, Matrix{Vec{2, Float64}}, Matrix{Tensor{2, 2, Float64, 4}}, Matrix{Tensor{2, 2, Float64, 4}}}, Ferrite.GeometryMapping{2, Lagrange{RefTriangle, 1, Nothing}, Matrix{Float64}, Matrix{Vec{2, Float64}}, Matrix{Tensor{2, 2, Float64, 4}}}, QuadratureRule{RefTriangle, Float64, 2}, Vector{Float64}}(Ferrite.FunctionValues{1, RaviartThomas{2, RefTriangle, 1}, Matrix{Vec{2, Float64}}, Matrix{Tensor{2, 2, Float64, 4}}, Matrix{Tensor{2, 2, Float64, 4}}}(RaviartThomas{2, RefTriangle, 1}(), Vec{2, Float64}[[2.5e-323, 1.0e-323] [4.4e-323, 2.0e-323] [6.4e-323, 3.0e-323]; [5.0e-324, 3.5e-323] [5.0e-324, 5.4e-323] [5.0e-324, 7.4e-323]; [1.5e-323, 5.0e-324] [2.5e-323, 5.0e-324] [3.5e-323, 5.0e-324]], Vec{2, Float64}[[0.16666666666667, 0.16666666666667] [0.16666666666667, 0.66666666666667] [0.66666666666667, 0.16666666666667]; [-0.83333333333333, 0.16666666666667] [-0.83333333333333, 0.66666666666667] [-0.33333333333333004, 0.16666666666667]; [0.16666666666667, -0.83333333333333] [0.16666666666667, -0.33333333333333004] [0.66666666666667, -0.83333333333333]], Tensor{2, 2, Float64, 4}[[NaN NaN; NaN NaN] [NaN NaN; NaN NaN] [NaN NaN; NaN NaN]; [NaN NaN; NaN NaN] [NaN NaN; NaN NaN] [NaN NaN; NaN NaN]; [NaN NaN; NaN NaN] [NaN NaN; NaN NaN] [NaN NaN; NaN NaN]], Tensor{2, 2, Float64, 4}[[1.0 0.0; 0.0 1.0] [1.0 0.0; 0.0 1.0] [1.0 0.0; 0.0 1.0]; [1.0 0.0; 0.0 1.0] [1.0 0.0; 0.0 1.0] [1.0 0.0; 0.0 1.0]; [1.0 0.0; 0.0 1.0] [1.0 0.0; 0.0 1.0] [1.0 0.0; 0.0 1.0]]), Ferrite.GeometryMapping{2, Lagrange{RefTriangle, 1, Nothing}, Matrix{Float64}, Matrix{Vec{2, Float64}}, Matrix{Tensor{2, 2, Float64, 4}}}(Lagrange{RefTriangle, 1}(), [0.16666666666667 0.16666666666667 0.66666666666667; 0.16666666666667 0.66666666666667 0.16666666666667; 0.6666666666666601 0.16666666666666008 0.16666666666666005], Vec{2, Float64}[[1.0, 0.0] [1.0, 0.0] [1.0, 0.0]; [0.0, 1.0] [0.0, 1.0] [0.0, 1.0]; [-1.0, -1.0] [-1.0, -1.0] [-1.0, -1.0]], Tensor{2, 2, Float64, 4}[[0.0 0.0; 0.0 0.0] [0.0 0.0; 0.0 0.0] [0.0 0.0; 0.0 0.0]; [0.0 0.0; 0.0 0.0] [0.0 0.0; 0.0 0.0] [0.0 0.0; 0.0 0.0]; [-0.0 -0.0; -0.0 -0.0] [-0.0 -0.0; -0.0 -0.0] [-0.0 -0.0; -0.0 -0.0]]), QuadratureRule{RefTriangle, Float64, 2}([0.166666666666665, 0.166666666666665, 0.166666666666665], Vec{2, Float64}[[0.16666666666667, 0.16666666666667], [0.16666666666667, 0.66666666666667], [0.66666666666667, 0.16666666666667]]), [NaN, NaN, NaN]))"
     },
     "metadata": {},
     "execution_count": 3
    }
   ],
   "cell_type": "code",
   "source": [
    "ip_geo = Ferrite.default_interpolation(getcelltype(grid))\n",
    "ipu = Lagrange{RefTriangle, 1}() # Why does it \"explode\" for 2nd order ipu?\n",
    "ipq = RaviartThomas{2,RefTriangle,1}()\n",
    "qr = QuadratureRule{RefTriangle}(2)\n",
    "cellvalues = (u=CellValues(qr, ipu, ip_geo), q=CellValues(qr, ipq, ip_geo))"
   ],
   "metadata": {},
   "execution_count": 3
  },
  {
   "cell_type": "markdown",
   "source": [
    "### Degrees of freedom\n",
    "Next we need to define a `DofHandler`, which will take care of numbering\n",
    "and distribution of degrees of freedom for our approximated fields.\n",
    "We create the `DofHandler` and then add a single scalar field called `:u` based on\n",
    "our interpolation `ip` defined above.\n",
    "Lastly we `close!` the `DofHandler`, it is now that the dofs are distributed\n",
    "for all the elements."
   ],
   "metadata": {}
  },
  {
   "outputs": [],
   "cell_type": "code",
   "source": [
    "dh = DofHandler(grid)\n",
    "add!(dh, :u, ipu)\n",
    "add!(dh, :q, ipq)\n",
    "close!(dh);"
   ],
   "metadata": {},
   "execution_count": 4
  },
  {
   "cell_type": "markdown",
   "source": [
    "Now that we have distributed all our dofs we can create our tangent matrix,\n",
    "using `create_sparsity_pattern`. This function returns a sparse matrix\n",
    "with the correct entries stored."
   ],
   "metadata": {}
  },
  {
   "outputs": [
    {
     "output_type": "execute_result",
     "data": {
      "text/plain": "1681×1681 SparseArrays.SparseMatrixCSC{Float64, Int64} with 18721 stored entries:\n⎡⠻⣦⡀⢷⡀⠀⠀⠀⠀⠀⠀⠀⠀⠀⠀⠀⠀⠀⠀⠀⠀⠀⠀⠀⠀⠀⠀⠀⠀⠀⠀⠀⠀⠀⠀⠀⠀⠀⠀⠀⎤\n⎢⢤⣌⠻⣦⡹⣄⠀⠀⠀⠀⠀⠀⠀⠀⠀⠀⠀⠀⠀⠀⠀⠀⠀⠀⠀⠀⠀⠀⠀⠀⠀⠀⠀⠀⠀⠀⠀⠀⠀⠀⎥\n⎢⠀⠈⠓⢮⡻⣮⡳⣄⠀⠀⠀⠀⠀⠀⠀⠀⠀⠀⠀⠀⠀⠀⠀⠀⠀⠀⠀⠀⠀⠀⠀⠀⠀⠀⠀⠀⠀⠀⠀⠀⎥\n⎢⠀⠀⠀⠀⠙⢮⡻⣮⡳⣄⠀⠀⠀⠀⠀⠀⠀⠀⠀⠀⠀⠀⠀⠀⠀⠀⠀⠀⠀⠀⠀⠀⠀⠀⠀⠀⠀⠀⠀⠀⎥\n⎢⠀⠀⠀⠀⠀⠀⠙⢮⡻⣮⡳⣄⠀⠀⠀⠀⠀⠀⠀⠀⠀⠀⠀⠀⠀⠀⠀⠀⠀⠀⠀⠀⠀⠀⠀⠀⠀⠀⠀⠀⎥\n⎢⠀⠀⠀⠀⠀⠀⠀⠀⠙⢮⡻⣮⡳⣄⠀⠀⠀⠀⠀⠀⠀⠀⠀⠀⠀⠀⠀⠀⠀⠀⠀⠀⠀⠀⠀⠀⠀⠀⠀⠀⎥\n⎢⠀⠀⠀⠀⠀⠀⠀⠀⠀⠀⠙⢮⡻⣮⡳⣄⠀⠀⠀⠀⠀⠀⠀⠀⠀⠀⠀⠀⠀⠀⠀⠀⠀⠀⠀⠀⠀⠀⠀⠀⎥\n⎢⠀⠀⠀⠀⠀⠀⠀⠀⠀⠀⠀⠀⠙⢮⡻⣮⡳⣄⠀⠀⠀⠀⠀⠀⠀⠀⠀⠀⠀⠀⠀⠀⠀⠀⠀⠀⠀⠀⠀⠀⎥\n⎢⠀⠀⠀⠀⠀⠀⠀⠀⠀⠀⠀⠀⠀⠀⠙⢮⡻⣮⡳⣄⠀⠀⠀⠀⠀⠀⠀⠀⠀⠀⠀⠀⠀⠀⠀⠀⠀⠀⠀⠀⎥\n⎢⠀⠀⠀⠀⠀⠀⠀⠀⠀⠀⠀⠀⠀⠀⠀⠀⠙⢮⡻⣮⡳⣄⠀⠀⠀⠀⠀⠀⠀⠀⠀⠀⠀⠀⠀⠀⠀⠀⠀⠀⎥\n⎢⠀⠀⠀⠀⠀⠀⠀⠀⠀⠀⠀⠀⠀⠀⠀⠀⠀⠀⠙⢮⡻⣮⡳⣄⠀⠀⠀⠀⠀⠀⠀⠀⠀⠀⠀⠀⠀⠀⠀⠀⎥\n⎢⠀⠀⠀⠀⠀⠀⠀⠀⠀⠀⠀⠀⠀⠀⠀⠀⠀⠀⠀⠀⠙⢮⡻⣮⡳⣄⠀⠀⠀⠀⠀⠀⠀⠀⠀⠀⠀⠀⠀⠀⎥\n⎢⠀⠀⠀⠀⠀⠀⠀⠀⠀⠀⠀⠀⠀⠀⠀⠀⠀⠀⠀⠀⠀⠀⠙⢮⡻⣮⡳⣄⠀⠀⠀⠀⠀⠀⠀⠀⠀⠀⠀⠀⎥\n⎢⠀⠀⠀⠀⠀⠀⠀⠀⠀⠀⠀⠀⠀⠀⠀⠀⠀⠀⠀⠀⠀⠀⠀⠀⠙⢮⡻⣮⡳⣄⠀⠀⠀⠀⠀⠀⠀⠀⠀⠀⎥\n⎢⠀⠀⠀⠀⠀⠀⠀⠀⠀⠀⠀⠀⠀⠀⠀⠀⠀⠀⠀⠀⠀⠀⠀⠀⠀⠀⠙⢮⡻⣮⡳⣄⠀⠀⠀⠀⠀⠀⠀⠀⎥\n⎢⠀⠀⠀⠀⠀⠀⠀⠀⠀⠀⠀⠀⠀⠀⠀⠀⠀⠀⠀⠀⠀⠀⠀⠀⠀⠀⠀⠀⠙⢮⡻⣮⡳⣄⠀⠀⠀⠀⠀⠀⎥\n⎢⠀⠀⠀⠀⠀⠀⠀⠀⠀⠀⠀⠀⠀⠀⠀⠀⠀⠀⠀⠀⠀⠀⠀⠀⠀⠀⠀⠀⠀⠀⠙⢮⡻⣮⡳⣄⠀⠀⠀⠀⎥\n⎢⠀⠀⠀⠀⠀⠀⠀⠀⠀⠀⠀⠀⠀⠀⠀⠀⠀⠀⠀⠀⠀⠀⠀⠀⠀⠀⠀⠀⠀⠀⠀⠀⠙⢮⡻⣮⡳⣄⠀⠀⎥\n⎢⠀⠀⠀⠀⠀⠀⠀⠀⠀⠀⠀⠀⠀⠀⠀⠀⠀⠀⠀⠀⠀⠀⠀⠀⠀⠀⠀⠀⠀⠀⠀⠀⠀⠀⠙⢮⡻⣮⡳⣄⎥\n⎣⠀⠀⠀⠀⠀⠀⠀⠀⠀⠀⠀⠀⠀⠀⠀⠀⠀⠀⠀⠀⠀⠀⠀⠀⠀⠀⠀⠀⠀⠀⠀⠀⠀⠀⠀⠀⠙⢮⠻⣦⎦"
     },
     "metadata": {},
     "execution_count": 5
    }
   ],
   "cell_type": "code",
   "source": [
    "K = create_sparsity_pattern(dh)"
   ],
   "metadata": {},
   "execution_count": 5
  },
  {
   "cell_type": "markdown",
   "source": [
    "### Boundary conditions\n",
    "In Ferrite constraints like Dirichlet boundary conditions\n",
    "are handled by a `ConstraintHandler`."
   ],
   "metadata": {}
  },
  {
   "outputs": [],
   "cell_type": "code",
   "source": [
    "ch = ConstraintHandler(dh);"
   ],
   "metadata": {},
   "execution_count": 6
  },
  {
   "cell_type": "markdown",
   "source": [
    "Next we need to add constraints to `ch`. For this problem we define\n",
    "homogeneous Dirichlet boundary conditions on the whole boundary, i.e.\n",
    "the `union` of all the face sets on the boundary."
   ],
   "metadata": {}
  },
  {
   "outputs": [],
   "cell_type": "code",
   "source": [
    "∂Ω = union(\n",
    "    getfaceset(grid, \"left\"),\n",
    "    getfaceset(grid, \"right\"),\n",
    "    getfaceset(grid, \"top\"),\n",
    "    getfaceset(grid, \"bottom\"),\n",
    ");"
   ],
   "metadata": {},
   "execution_count": 7
  },
  {
   "cell_type": "markdown",
   "source": [
    "Now we are set up to define our constraint. We specify which field\n",
    "the condition is for, and our combined face set `∂Ω`. The last\n",
    "argument is a function of the form $f(\\textbf{x})$ or $f(\\textbf{x}, t)$,\n",
    "where $\\textbf{x}$ is the spatial coordinate and\n",
    "$t$ the current time, and returns the prescribed value. Since the boundary condition in\n",
    "this case do not depend on time we define our function as $f(\\textbf{x}) = 0$, i.e.\n",
    "no matter what $\\textbf{x}$ we return $0$. When we have\n",
    "specified our constraint we `add!` it to `ch`."
   ],
   "metadata": {}
  },
  {
   "outputs": [],
   "cell_type": "code",
   "source": [
    "dbc = Dirichlet(:u, ∂Ω, (x, t) -> 0)\n",
    "add!(ch, dbc);"
   ],
   "metadata": {},
   "execution_count": 8
  },
  {
   "cell_type": "markdown",
   "source": [
    "Finally we also need to `close!` our constraint handler. When we call `close!`\n",
    "the dofs corresponding to our constraints are calculated and stored\n",
    "in our `ch` object."
   ],
   "metadata": {}
  },
  {
   "outputs": [
    {
     "output_type": "execute_result",
     "data": {
      "text/plain": "ConstraintHandler:\n  BCs:\n    Field: u, Components: [1]"
     },
     "metadata": {},
     "execution_count": 9
    }
   ],
   "cell_type": "code",
   "source": [
    "close!(ch)"
   ],
   "metadata": {},
   "execution_count": 9
  },
  {
   "cell_type": "markdown",
   "source": [
    "Note that if one or more of the constraints are time dependent we would use\n",
    "`update!` to recompute prescribed values in each new timestep."
   ],
   "metadata": {}
  },
  {
   "cell_type": "markdown",
   "source": [
    "### Assembling the linear system\n",
    "\n",
    "Now we have all the pieces needed to assemble the linear system, $K u = f$.\n",
    "Assembling of the global system is done by looping over all the elements in order to\n",
    "compute the element contributions $K_e$ and $f_e$, which are then assembled to the\n",
    "appropriate place in the global $K$ and $f$.\n",
    "\n",
    "#### Element assembly\n",
    "We define the function `assemble_element!` (see below) which computes the contribution for\n",
    "an element. The function takes pre-allocated `ke` and `fe` (they are allocated once and\n",
    "then reused for all elements) so we first need to make sure that they are all zeroes at\n",
    "the start of the function by using `fill!`. Then we loop over all the quadrature points,\n",
    "and for each quadrature point we loop over all the (local) shape functions. We need the\n",
    "value and gradient of the test function, `δu` and also the gradient of the trial function\n",
    "`u`. We get all of these from `cellvalues`.\n",
    "\n",
    "!!! note \"Notation\"\n",
    "    Comparing with the brief finite element introduction in Introduction to FEM,\n",
    "    the variables `δu`, `∇δu` and `∇u` are actually $\\phi_i(\\textbf{x}_q)$, $\\nabla\n",
    "    \\phi_i(\\textbf{x}_q)$ and $\\nabla \\phi_j(\\textbf{x}_q)$, i.e. the evaluation of the\n",
    "    trial and test functions in the quadrature point $\\textbf{x}_q$. However, to\n",
    "    underline the strong parallel between the weak form and the implementation, this\n",
    "    example uses the symbols appearing in the weak form."
   ],
   "metadata": {}
  },
  {
   "outputs": [
    {
     "output_type": "execute_result",
     "data": {
      "text/plain": "assemble_element! (generic function with 1 method)"
     },
     "metadata": {},
     "execution_count": 10
    }
   ],
   "cell_type": "code",
   "source": [
    "function assemble_element!(Ke::Matrix, fe::Vector, cv::NamedTuple, dr::NamedTuple)\n",
    "    cvu = cv[:u]\n",
    "    cvq = cv[:q]\n",
    "    dru = dr[:u]\n",
    "    drq = dr[:q]\n",
    "    # Loop over quadrature points\n",
    "    for q_point in 1:getnquadpoints(cvu)\n",
    "        # Get the quadrature weight\n",
    "        dΩ = getdetJdV(cvu, q_point)\n",
    "        # Loop over test shape functions\n",
    "        for (iu, Iu) in pairs(dru)\n",
    "            δu  = shape_value(cvu, q_point, iu)\n",
    "            ∇δu = shape_gradient(cvu, q_point, iu)\n",
    "            # Add contribution to fe\n",
    "            fe[Iu] -= δu * dΩ\n",
    "            # Loop over trial shape functions\n",
    "            for (jq, Jq) in pairs(drq)\n",
    "                q = shape_value(cvq, q_point, jq)\n",
    "                # Add contribution to Ke\n",
    "                Ke[Iu, Jq] += (∇δu ⋅ q) * dΩ\n",
    "            end\n",
    "        end\n",
    "        for (iq, Iq) in pairs(drq)\n",
    "            δq = shape_value(cvq, q_point, iq)\n",
    "            for (ju, Ju) in pairs(dru)\n",
    "                ∇u = shape_gradient(cvu, q_point, ju)\n",
    "                Ke[Iq, Ju] += (δq ⋅ ∇u) * dΩ\n",
    "            end\n",
    "            for (jq, Jq) in pairs(drq)\n",
    "                q = shape_value(cvq, q_point, jq)\n",
    "                Ke[Iq, Jq] += (δq ⋅ q) * dΩ\n",
    "            end\n",
    "        end\n",
    "    end\n",
    "    return Ke, fe\n",
    "end"
   ],
   "metadata": {},
   "execution_count": 10
  },
  {
   "cell_type": "markdown",
   "source": [
    "#### Global assembly\n",
    "We define the function `assemble_global` to loop over the elements and do the global\n",
    "assembly. The function takes our `cellvalues`, the sparse matrix `K`, and our DofHandler\n",
    "as input arguments and returns the assembled global stiffness matrix, and the assembled\n",
    "global force vector. We start by allocating `Ke`, `fe`, and the global force vector `f`.\n",
    "We also create an assembler by using `start_assemble`. The assembler lets us assemble into\n",
    "`K` and `f` efficiently. We then start the loop over all the elements. In each loop\n",
    "iteration we reinitialize `cellvalues` (to update derivatives of shape functions etc.),\n",
    "compute the element contribution with `assemble_element!`, and then assemble into the\n",
    "global `K` and `f` with `assemble!`.\n",
    "\n",
    "!!! note \"Notation\"\n",
    "    Comparing again with Introduction to FEM, `f` and `u` correspond to\n",
    "    $\\underline{\\hat{f}}$ and $\\underline{\\hat{u}}$, since they represent the discretized\n",
    "    versions. However, through the code we use `f` and `u` instead to reflect the strong\n",
    "    connection between the weak form and the Ferrite implementation."
   ],
   "metadata": {}
  },
  {
   "outputs": [
    {
     "output_type": "execute_result",
     "data": {
      "text/plain": "assemble_global (generic function with 1 method)"
     },
     "metadata": {},
     "execution_count": 11
    }
   ],
   "cell_type": "code",
   "source": [
    "function assemble_global(cellvalues, K::SparseMatrixCSC, dh::DofHandler)\n",
    "    grid = dh.grid\n",
    "    # Allocate the element stiffness matrix and element force vector\n",
    "    dofranges = (u = dof_range(dh, :u), q = dof_range(dh, :q))\n",
    "    ncelldofs = ndofs_per_cell(dh)\n",
    "    Ke = zeros(ncelldofs, ncelldofs)\n",
    "    fe = zeros(ncelldofs)\n",
    "    # Allocate global force vector f\n",
    "    f = zeros(ndofs(dh))\n",
    "    # Create an assembler\n",
    "    assembler = start_assemble(K, f)\n",
    "    x = copy(getcoordinates(grid, 1))\n",
    "    dofs = copy(celldofs(dh, 1))\n",
    "    # Loop over all cels\n",
    "    for cellnr in 1:getncells(grid)\n",
    "        # Reinitialize cellvalues for this cell\n",
    "        cell = getcells(grid, cellnr)\n",
    "        getcoordinates!(x, grid, cell)\n",
    "        celldofs!(dofs, dh, cellnr)\n",
    "        reinit!(cellvalues[:u], cell, x)\n",
    "        reinit!(cellvalues[:q], cell, x)\n",
    "        # Reset to 0\n",
    "        fill!(Ke, 0)\n",
    "        fill!(fe, 0)\n",
    "        # Compute element contribution\n",
    "        assemble_element!(Ke, fe, cellvalues, dofranges)\n",
    "        # Assemble Ke and fe into K and f\n",
    "        assemble!(assembler, dofs, Ke, fe)\n",
    "    end\n",
    "    return K, f\n",
    "end"
   ],
   "metadata": {},
   "execution_count": 11
  },
  {
   "cell_type": "markdown",
   "source": [
    "### Solution of the system\n",
    "The last step is to solve the system. First we call `assemble_global`\n",
    "to obtain the global stiffness matrix `K` and force vector `f`."
   ],
   "metadata": {}
  },
  {
   "outputs": [],
   "cell_type": "code",
   "source": [
    "K, f = assemble_global(cellvalues, K, dh);"
   ],
   "metadata": {},
   "execution_count": 12
  },
  {
   "cell_type": "markdown",
   "source": [
    "To account for the boundary conditions we use the `apply!` function.\n",
    "This modifies elements in `K` and `f` respectively, such that\n",
    "we can get the correct solution vector `u` by using `\\`."
   ],
   "metadata": {}
  },
  {
   "outputs": [],
   "cell_type": "code",
   "source": [
    "apply!(K, f, ch)\n",
    "u = K \\ f;"
   ],
   "metadata": {},
   "execution_count": 13
  },
  {
   "cell_type": "markdown",
   "source": [
    "### Exporting to VTK\n",
    "To visualize the result we export the grid and our field `u`\n",
    "to a VTK-file, which can be viewed in e.g. [ParaView](https://www.paraview.org/)."
   ],
   "metadata": {}
  },
  {
   "outputs": [
    {
     "name": "stdout",
     "output_type": "stream",
     "text": [
      "norm(u_nodes) / length(u_nodes) = 0.007533130061845076\n"
     ]
    },
    {
     "output_type": "execute_result",
     "data": {
      "text/plain": "0.007533130061845076"
     },
     "metadata": {},
     "execution_count": 14
    }
   ],
   "cell_type": "code",
   "source": [
    "u_nodes = evaluate_at_grid_nodes(dh, u, :u)\n",
    "∂Ω_cells = zeros(Int, getncells(grid))\n",
    "for (cellnr, facenr) in ∂Ω\n",
    "    ∂Ω_cells[cellnr] = 1\n",
    "end\n",
    "vtk_grid(\"heat_equation_rt\", dh) do vtk\n",
    "    vtk_point_data(vtk, u_nodes, \"u\")\n",
    "    vtk_cell_data(vtk, ∂Ω_cells, \"dO\")\n",
    "end\n",
    "\n",
    "@show norm(u_nodes)/length(u_nodes)"
   ],
   "metadata": {},
   "execution_count": 14
  },
  {
   "cell_type": "markdown",
   "source": [
    "## Postprocess the total flux"
   ],
   "metadata": {}
  },
  {
   "outputs": [
    {
     "name": "stdout",
     "output_type": "stream",
     "text": [
      "(flux, flux_lag) = (3.708183143817358, 3.7472968019812964)\n"
     ]
    },
    {
     "output_type": "execute_result",
     "data": {
      "text/plain": "get_Ke (generic function with 1 method)"
     },
     "metadata": {},
     "execution_count": 15
    }
   ],
   "cell_type": "code",
   "source": [
    "function calculate_flux(dh, dΩ, ip, a)\n",
    "    grid = dh.grid\n",
    "    qr = FaceQuadratureRule{RefTriangle}(4)\n",
    "    ip_geo = Ferrite.default_interpolation(getcelltype(grid))\n",
    "    fv = FaceValues(qr, ip, ip_geo)\n",
    "\n",
    "    dofrange = dof_range(dh, :q)\n",
    "    flux = 0.0\n",
    "    dofs = celldofs(dh, 1)\n",
    "    ae = zeros(length(dofs))\n",
    "    x = getcoordinates(grid, 1)\n",
    "    for (cellnr, facenr) in dΩ\n",
    "        getcoordinates!(x, grid, cellnr)\n",
    "        cell = getcells(grid, cellnr)\n",
    "        celldofs!(dofs, dh, cellnr)\n",
    "        map!(i->a[i], ae, dofs)\n",
    "        reinit!(fv, cell, x, facenr)\n",
    "        for q_point in 1:getnquadpoints(fv)\n",
    "            dΓ = getdetJdV(fv, q_point)\n",
    "            n = getnormal(fv, q_point)\n",
    "            q = function_value(fv, q_point, ae, dofrange)\n",
    "            flux += (q ⋅ n)*dΓ\n",
    "        end\n",
    "    end\n",
    "    return flux\n",
    "end\n",
    "\n",
    "function calculate_flux_lag(dh, dΩ, ip, a)\n",
    "    grid = dh.grid\n",
    "    qr = FaceQuadratureRule{RefTriangle}(4)\n",
    "    ip_geo = Ferrite.default_interpolation(getcelltype(grid))\n",
    "    fv = FaceValues(qr, ip, ip_geo)\n",
    "    dofrange = dof_range(dh, :u)\n",
    "    flux = 0.0\n",
    "    dofs = celldofs(dh, 1)\n",
    "    ae = zeros(length(dofs))\n",
    "    x = getcoordinates(grid, 1)\n",
    "    for (cellnr, facenr) in dΩ\n",
    "        getcoordinates!(x, grid, cellnr)\n",
    "        cell = getcells(grid, cellnr)\n",
    "        celldofs!(dofs, dh, cellnr)\n",
    "        map!(i->a[i], ae, dofs)\n",
    "        reinit!(fv, cell, x, facenr)\n",
    "        for q_point in 1:getnquadpoints(fv)\n",
    "            dΓ = getdetJdV(fv, q_point)\n",
    "            n = getnormal(fv, q_point)\n",
    "            q = function_gradient(fv, q_point, ae, dofrange)\n",
    "            flux -= (q ⋅ n)*dΓ\n",
    "        end\n",
    "    end\n",
    "    return flux\n",
    "end\n",
    "\n",
    "flux = calculate_flux(dh, ∂Ω, ipq, u)\n",
    "flux_lag = calculate_flux_lag(dh, ∂Ω, ipu, u)\n",
    "@show flux, flux_lag\n",
    "\n",
    "\n",
    "function get_Ke(dh, cellvalues; cellnr=1)\n",
    "    dofranges = (u = dof_range(dh, :u), q = dof_range(dh, :q))\n",
    "    ncelldofs = ndofs_per_cell(dh)\n",
    "    Ke = zeros(ncelldofs, ncelldofs)\n",
    "    fe = zeros(ncelldofs)\n",
    "    x = getcoordinates(grid, cellnr)\n",
    "    cell = getcells(grid, cellnr)\n",
    "    reinit!(cellvalues[:u], cell, x)\n",
    "    reinit!(cellvalues[:q], cell, x)\n",
    "\n",
    "    # Reset to 0\n",
    "    fill!(Ke, 0)\n",
    "    fill!(fe, 0)\n",
    "    # Compute element contribution\n",
    "    assemble_element!(Ke, fe, cellvalues, dofranges)\n",
    "    return Ke\n",
    "end"
   ],
   "metadata": {},
   "execution_count": 15
  },
  {
   "cell_type": "markdown",
   "source": [
    "---\n",
    "\n",
    "*This notebook was generated using [Literate.jl](https://github.com/fredrikekre/Literate.jl).*"
   ],
   "metadata": {}
  }
 ],
 "nbformat_minor": 3,
 "metadata": {
  "language_info": {
   "file_extension": ".jl",
   "mimetype": "application/julia",
   "name": "julia",
   "version": "1.10.2"
  },
  "kernelspec": {
   "name": "julia-1.10",
   "display_name": "Julia 1.10.2",
   "language": "julia"
  }
 },
 "nbformat": 4
}
