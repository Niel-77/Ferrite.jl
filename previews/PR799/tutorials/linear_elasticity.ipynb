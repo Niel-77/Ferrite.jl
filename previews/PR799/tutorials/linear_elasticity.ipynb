{
 "cells": [
  {
   "cell_type": "markdown",
   "source": [
    "# Linear elasticity\n",
    "\n",
    "![](linear_elasticity.png)\n",
    "\n",
    "*Figure 1*: Linear elastically deformed Ferrite logo."
   ],
   "metadata": {}
  },
  {
   "cell_type": "markdown",
   "source": [
    "## Introduction\n",
    "\n",
    "The classical first finite element problem to solve in solid mechanics is a linear balance\n",
    "of momentum problem. We will use this to introduce a vector valued field, the displacements\n",
    "$\\boldsymbol{u}$. In addition, some features of the\n",
    "[`Tensors.jl`](https://github.com/Ferrite-FEM/Tensors.jl) toolbox is demonstrated.\n",
    "\n",
    "The strong form of the balance of momentum for quasi-static loading is given by\n",
    "$$\n",
    "\\begin{align*}\n",
    " \\boldsymbol{\\sigma} \\cdot \\boldsymbol{\\nabla} + \\boldsymbol{b} &= 0 \\quad \\boldsymbol{x} \\in \\Omega \\\\\n",
    " \\boldsymbol{u} &= \\boldsymbol{u}_\\mathrm{D} \\quad \\boldsymbol{x} \\in \\Gamma_\\mathrm{D} \\\\\n",
    " \\boldsymbol{n} \\cdot \\boldsymbol{\\sigma} &= \\boldsymbol{t}_\\mathrm{N} \\quad \\boldsymbol{x} \\in \\Gamma_\\mathrm{N} \\\\\n",
    "\\end{align*}\n",
    "$$\n",
    "where $\\boldsymbol{\\sigma}$ is the (Cauchy) stress tensor and $\\boldsymbol{b}$ the body force.\n",
    "The domain, $\\Omega$, has the boundary $\\Gamma$, consisting of a Dirichlet part, $\\Gamma_\\mathrm{D}$, and\n",
    "a Neumann part, $\\Gamma_\\mathrm{N}$, with outward pointing normal vector $\\boldsymbol{n}$.\n",
    "$\\boldsymbol{u}_\\mathrm{D}$ denotes prescribed displacements on $\\Gamma_\\mathrm{D}$,\n",
    "while $\\boldsymbol{t}_\\mathrm{N}$ the known tractions on $\\Gamma_\\mathrm{N}$.\n",
    "\n",
    "In this example, we use linear elasticity, such that\n",
    "$$\n",
    "\\boldsymbol{\\sigma} = \\boldsymbol{\\mathsf{E}} : \\boldsymbol{\\varepsilon}\n",
    "$$\n",
    "where $\\boldsymbol{\\mathsf{E}}$ is the elastic stiffness tensor and $\\boldsymbol{\\varepsilon}$ is\n",
    "the small strain tensor,\n",
    "$$\n",
    "\\boldsymbol{\\varepsilon} = \\frac{1}{2} \\left(\n",
    "  \\boldsymbol{\\nabla} \\otimes \\boldsymbol{u}\n",
    "  +\n",
    "  \\boldsymbol{u} \\otimes \\boldsymbol{\\nabla}\n",
    "\\right)\n",
    "$$\n",
    "\n",
    "The resulting weak form is given given as follows: Find $\\boldsymbol{u} \\in \\mathbb{U}$ such that\n",
    "$$\n",
    "\\int_\\Omega\n",
    "  \\left(\\delta \\boldsymbol{u} \\otimes \\boldsymbol{\\nabla} \\right) : \\boldsymbol{\\sigma}\n",
    "\\, \\mathrm{d}V\n",
    "=\n",
    "\\int_{\\Gamma}\n",
    "  \\delta \\boldsymbol{u} \\cdot \\boldsymbol{t}\n",
    "\\, \\mathrm{d}A\n",
    "+\n",
    "\\int_\\Omega\n",
    "  \\delta \\boldsymbol{u} \\cdot \\boldsymbol{b}\n",
    "\\, \\mathrm{d}V\n",
    "\\quad \\forall \\, \\delta \\boldsymbol{u} \\in \\mathbb{T},\n",
    "$$\n",
    "where $\\delta \\boldsymbol{u}$ is a vector valued test function, and where $\\mathbb{U}$ and\n",
    "$\\mathbb{T}$ are suitable trial and test function sets, respectively. The boundary traction\n",
    "is denoted $\\boldsymbol{t}$ and body forces are denoted $\\boldsymbol{b}$.\n",
    "\n",
    "However, for this example we will neglect body foces and thus the weak form reads:\n",
    "$$\n",
    "\\int_\\Omega\n",
    "  \\left(\\delta \\boldsymbol{u} \\otimes \\boldsymbol{\\nabla} \\right) : \\boldsymbol{\\sigma}\n",
    "\\, \\mathrm{d}V\n",
    "=\n",
    "\\int_{\\Gamma}\n",
    "  \\delta \\boldsymbol{u} \\cdot \\boldsymbol{t}\n",
    "\\, \\mathrm{d}A \\,.\n",
    "$$\n",
    "\n",
    "Finally, we choose to operate on a 2-dimensional problem under plain strain conditions.\n",
    "First we load Ferrite, and some other packages we need."
   ],
   "metadata": {}
  },
  {
   "outputs": [],
   "cell_type": "code",
   "source": [
    "using Ferrite, FerriteGmsh, SparseArrays"
   ],
   "metadata": {},
   "execution_count": 1
  },
  {
   "cell_type": "markdown",
   "source": [
    "Like for the Heat Equation example, we will use a unit square - but here we'll load the grid of the Ferrite logo!\n",
    "This is done by downloading [`logo.geo`](logo.geo) and loading it using [`FerriteGmsh.jl`](https://github.com/Ferrite-FEM/FerriteGmsh.jl),"
   ],
   "metadata": {}
  },
  {
   "outputs": [],
   "cell_type": "code",
   "source": [
    "using Downloads: download\n",
    "logo_mesh = \"logo.geo\"\n",
    "asset_url = \"https://raw.githubusercontent.com/Ferrite-FEM/Ferrite.jl/gh-pages/assets/\"\n",
    "isfile(logo_mesh) || download(string(asset_url, logo_mesh), logo_mesh)\n",
    "\n",
    "FerriteGmsh.Gmsh.initialize() # hide\n",
    "FerriteGmsh.Gmsh.gmsh.option.set_number(\"General.Verbosity\", 2) #hide\n",
    "grid = togrid(logo_mesh);\n",
    "FerriteGmsh.Gmsh.finalize();"
   ],
   "metadata": {},
   "execution_count": 2
  },
  {
   "cell_type": "markdown",
   "source": [
    "By default the grid lacks the facetsets for the boundaries, so we add them by Ferrite here.\n",
    "`addfacetset!` allows to add facetsets to the grid based on coordinates.\n",
    "Note that approximate comparison to 0.0 doesn't work well, so we use a tolerance instead."
   ],
   "metadata": {}
  },
  {
   "outputs": [],
   "cell_type": "code",
   "source": [
    "addfacetset!(grid, \"top\",    x -> x[2] ≈ 1.0) # faces for which x[2] ≈ 1.0 for all nodes\n",
    "addfacetset!(grid, \"left\",   x -> abs(x[1]) < 1e-6)\n",
    "addfacetset!(grid, \"bottom\", x -> abs(x[2]) < 1e-6);"
   ],
   "metadata": {},
   "execution_count": 3
  },
  {
   "cell_type": "markdown",
   "source": [
    "### Trial and test functions\n",
    "We use linear Lagrange functions as test and trial functions.\n",
    "The grid is composed of triangular elements, thus we need the Lagrange functions defined on `RefTriangle`.\n",
    "All currently available interpolations can be found under `Interpolation`.\n",
    "\n",
    "Since the displacement field, $\\boldsymbol{u}$, is vector valued, we use vector valued shape functions $\\boldsymbol{N}_i$\n",
    "to approximate the test and trial functions:\n",
    "$$\n",
    "\\boldsymbol{u} \\approx \\sum_{i=1}^N \\boldsymbol{N}_i \\left(\\boldsymbol{x}\\right) \\, \\hat{u}_i\n",
    "\\qquad\n",
    "\\delta \\boldsymbol{u} \\approx \\sum_{i=1}^N \\boldsymbol{N}_i \\left(\\boldsymbol{x}\\right) \\, \\delta \\hat{u}_i\n",
    "$$\n",
    "Here $N$ is the number of nodal variables, with $\\hat{u}_i$ and $\\delta\\hat{u}_i$ representing the $i$-th nodal value.\n",
    "Using the Einstein summation convention, we can write this in short form as\n",
    "$\\boldsymbol{u} \\approx \\boldsymbol{N}_i \\, \\hat{u}_i$ and $\\delta\\boldsymbol{u} \\approx \\boldsymbol{N}_i \\, \\delta\\hat{u}_i$.\n",
    "\n",
    "Here we use linear triangular elements (also called constant strain triangles) with a single\n",
    "quadrature point.\n",
    "The vector valued shape functions are constructed by raising the interpolation\n",
    "to the power `dim` (the dimension) since the displacement field has one component in each\n",
    "spatial dimension."
   ],
   "metadata": {}
  },
  {
   "outputs": [],
   "cell_type": "code",
   "source": [
    "dim = 2\n",
    "order = 1 # linear interpolation\n",
    "ip = Lagrange{RefTriangle, order}()^dim # vector valued interpolation\n",
    "qr = QuadratureRule{RefTriangle}(1) # 1 quadrature point\n",
    "cellvalues = CellValues(qr, ip)\n",
    "qr_face = FacetQuadratureRule{RefTriangle}(1)\n",
    "facetvalues = FacetValues(qr_face, ip);"
   ],
   "metadata": {},
   "execution_count": 4
  },
  {
   "cell_type": "markdown",
   "source": [
    "### Degrees of freedom\n",
    "For distributing degrees of freedom, we define a `DofHandler`. The `DofHandler` knows that\n",
    "`u` has two degrees of freedom per node because we vectorized the interpolation above."
   ],
   "metadata": {}
  },
  {
   "outputs": [],
   "cell_type": "code",
   "source": [
    "dh = DofHandler(grid)\n",
    "add!(dh, :u, ip)\n",
    "close!(dh);"
   ],
   "metadata": {},
   "execution_count": 5
  },
  {
   "cell_type": "markdown",
   "source": [
    "### Boundary conditions\n",
    "We set Dirichlet boundary conditions by fixing the motion normal to the bottom and left\n",
    "boundaries. The last argument to `Dirichlet` determines which components of the field should be\n",
    "constrained. If no argument is given, all components are constrained by default."
   ],
   "metadata": {}
  },
  {
   "outputs": [],
   "cell_type": "code",
   "source": [
    "ch = ConstraintHandler(dh)\n",
    "add!(ch, Dirichlet(:u, getfacetset(grid, \"bottom\"), (x, t) -> 0.0, 2))\n",
    "add!(ch, Dirichlet(:u, getfacetset(grid, \"left\"),   (x, t) -> 0.0, 1))\n",
    "close!(ch);"
   ],
   "metadata": {},
   "execution_count": 6
  },
  {
   "cell_type": "markdown",
   "source": [
    "In addition, we will use Neumann boundary conditions on the top surface, where\n",
    "we add a traction vector of the form\n",
    "$$\n",
    "\\boldsymbol{t}_\\mathrm{N}(\\boldsymbol{x}) = (20e3) x_1 \\boldsymbol{e}_2\n",
    "$$\n",
    "On the right boundary, we don't do anything. This becomes a Neumann boundary\n",
    "with zero traction."
   ],
   "metadata": {}
  },
  {
   "outputs": [
    {
     "output_type": "execute_result",
     "data": {
      "text/plain": "assemble_external_forces! (generic function with 1 method)"
     },
     "metadata": {},
     "execution_count": 7
    }
   ],
   "cell_type": "code",
   "source": [
    "traction(x) = Vec(0.0, 20e3 * x[1])\n",
    "\n",
    "function assemble_external_forces!(f_ext, dh, facetset, facetvalues, prescribed_traction)\n",
    "    fe_ext = zeros(getnbasefunctions(facetvalues))\n",
    "    for face in FacetIterator(dh, facetset)\n",
    "        reinit!(facetvalues, face)\n",
    "        fill!(fe_ext, 0.0)\n",
    "        for qp in 1:getnquadpoints(facetvalues)\n",
    "            X = spatial_coordinate(facetvalues, qp, getcoordinates(face))\n",
    "            tₚ = prescribed_traction(X)\n",
    "            dΓ = getdetJdV(facetvalues, qp)\n",
    "            for i in 1:getnbasefunctions(facetvalues)\n",
    "                Nᵢ = shape_value(facetvalues, qp, i)\n",
    "                fe_ext[i] += tₚ ⋅ Nᵢ * dΓ\n",
    "            end\n",
    "        end\n",
    "        assemble!(f_ext, celldofs(face), fe_ext)\n",
    "    end\n",
    "    return f_ext\n",
    "end"
   ],
   "metadata": {},
   "execution_count": 7
  },
  {
   "cell_type": "markdown",
   "source": [
    "### Material behavior\n",
    "Next, we need to define the material behavior.\n",
    "In this example, we use plane strain linear isotropic elasticity, with Hooke's law as\n",
    "$$\n",
    "\\boldsymbol{\\sigma} = 2G \\boldsymbol{\\varepsilon}^\\mathrm{dev} + 3K \\boldsymbol{\\varepsilon}^\\mathrm{vol}\n",
    "$$\n",
    "where $G$ is the shear modulus and $K$ the bulk modulus. The volumetric, $\\boldsymbol{\\varepsilon}^\\mathrm{vol}$,\n",
    "and deviatoric, $\\boldsymbol{\\varepsilon}^\\mathrm{dev}$ strains, are defined as\n",
    "$$\n",
    "\\begin{align*}\n",
    "\\boldsymbol{\\varepsilon}^\\mathrm{vol} &= \\frac{\\mathrm{tr}(\\boldsymbol{\\varepsilon})}{3}\\boldsymbol{I}\n",
    "\\boldsymbol{\\varepsilon}^\\mathrm{dev} &= \\boldsymbol{\\varepsilon} - \\boldsymbol{\\varepsilon}^\\mathrm{vol}\n",
    "\\end{align*}\n",
    "$$\n",
    "\n",
    "Starting from Young's modulus, $E$, and Poisson's ratio, $\\nu$, the shear and bulk modulus are\n",
    "$$\n",
    "G = \\frac{E}{2(1 + \\nu)}, \\quad K = \\frac{E}{3(1 - 2\\nu)}\n",
    "$$\n",
    "Finally, the stiffness tensor can be calculated as the derivative of stress wrt. strain.\n",
    "Due to the linearity, we can calculate this at any point, and choose zero strain."
   ],
   "metadata": {}
  },
  {
   "outputs": [],
   "cell_type": "code",
   "source": [
    "Emod = 200e3 # Young's modulus [MPa]\n",
    "ν = 0.3      # Poisson's ratio [-]\n",
    "\n",
    "Gmod = Emod / (2(1 + ν))  # Shear modulus\n",
    "Kmod = Emod / (3(1 - 2ν)) # Bulk modulus\n",
    "E4 = gradient(ϵ -> 2 * Gmod * dev(ϵ) + 3 * Kmod * vol(ϵ), zero(SymmetricTensor{2,2}));"
   ],
   "metadata": {},
   "execution_count": 8
  },
  {
   "cell_type": "markdown",
   "source": [
    "### Element routine\n",
    "The stiffness matrix follows from the weak form such that\n",
    "$$\n",
    "K_{ij}\n",
    "=\n",
    "\\int_\\Omega\n",
    "  \\left(\n",
    "      (\\boldsymbol{N}_i \\otimes \\boldsymbol{\\nabla}) :\n",
    "      \\frac{\\partial \\boldsymbol{\\sigma}}{\\partial \\boldsymbol{\\varepsilon}}\n",
    "      :\n",
    "      (\\boldsymbol{N}_j \\otimes \\boldsymbol{\\nabla})^\\mathrm{sym}\n",
    "  \\right)\n",
    "\n",
    "\\, \\mathrm{d}V\n",
    "$$\n",
    "The element routine computes the local stiffness matrix `ke`\n",
    "for a single element. `ke` is pre-allocated and reused for all elements.\n",
    "\n",
    "Note that the elastic stiffness tensor $\\boldsymbol{\\mathsf{E}}$ is constant.\n",
    "Thus is needs to be computed and once and can then be used for all integration points."
   ],
   "metadata": {}
  },
  {
   "outputs": [
    {
     "output_type": "execute_result",
     "data": {
      "text/plain": "assemble_cell! (generic function with 1 method)"
     },
     "metadata": {},
     "execution_count": 9
    }
   ],
   "cell_type": "code",
   "source": [
    "function assemble_cell!(ke, cellvalues, ∂σ∂ε)\n",
    "    fill!(ke, 0.0)\n",
    "    n_basefuncs = getnbasefunctions(cellvalues)\n",
    "    for q_point in 1:getnquadpoints(cellvalues)\n",
    "        dΩ = getdetJdV(cellvalues, q_point)\n",
    "        for i in 1:n_basefuncs\n",
    "            ∇Nᵢ = shape_gradient(cellvalues, q_point, i)# shape_symmetric_gradient(cellvalues, q_point, i)\n",
    "            for j in 1:n_basefuncs\n",
    "                ∇ˢʸᵐNⱼ = shape_symmetric_gradient(cellvalues, q_point, j)\n",
    "                ke[i, j] += (∂σ∂ε ⊡ ∇ˢʸᵐNⱼ) ⊡ ∇Nᵢ * dΩ\n",
    "            end\n",
    "        end\n",
    "    end\n",
    "    return ke\n",
    "end"
   ],
   "metadata": {},
   "execution_count": 9
  },
  {
   "cell_type": "markdown",
   "source": [
    "### Global assembly\n",
    "We define the function `assemble_global` to loop over the elements and do the global\n",
    "assembly. The function takes the preallocated sparse matrix `K`, our DofHandler `dh`, our\n",
    "`cellvalues` and the elastic stiffness tensor `∂σ∂ε` as input arguments and computes the\n",
    "global stiffness matrix `K`."
   ],
   "metadata": {}
  },
  {
   "outputs": [
    {
     "output_type": "execute_result",
     "data": {
      "text/plain": "assemble_global! (generic function with 1 method)"
     },
     "metadata": {},
     "execution_count": 10
    }
   ],
   "cell_type": "code",
   "source": [
    "function assemble_global!(K, dh, cellvalues, ∂σ∂ε)\n",
    "    # Allocate the element stiffness matrix\n",
    "    n_basefuncs = getnbasefunctions(cellvalues)\n",
    "    ke = zeros(n_basefuncs, n_basefuncs)\n",
    "    # Create an assembler\n",
    "    assembler = start_assemble(K)\n",
    "    # Loop over all cells\n",
    "    for cell in CellIterator(dh)\n",
    "        # Update the shape function gradients based on the cell coordinates\n",
    "        reinit!(cellvalues, cell)\n",
    "        # Compute element contribution\n",
    "        assemble_cell!(ke, cellvalues, ∂σ∂ε)\n",
    "        # Assemble ke and fe into K and f\n",
    "        assemble!(assembler, celldofs(cell), ke)\n",
    "    end\n",
    "    return K\n",
    "end"
   ],
   "metadata": {},
   "execution_count": 10
  },
  {
   "cell_type": "markdown",
   "source": [
    "### Solution of the system\n",
    "The last step is to solve the system. First we allocate the global stiffness matrix `K`\n",
    "and assemble it."
   ],
   "metadata": {}
  },
  {
   "outputs": [],
   "cell_type": "code",
   "source": [
    "K = allocate_matrix(dh)\n",
    "assemble_global!(K, dh, cellvalues, E4);"
   ],
   "metadata": {},
   "execution_count": 11
  },
  {
   "cell_type": "markdown",
   "source": [
    "Then we allocate and assemble the external force vector."
   ],
   "metadata": {}
  },
  {
   "outputs": [],
   "cell_type": "code",
   "source": [
    "f_ext = zeros(ndofs(dh))\n",
    "assemble_external_forces!(f_ext, dh, getfacetset(grid, \"top\"), facetvalues, x->Vec(0.0, 20e3*x[1]));"
   ],
   "metadata": {},
   "execution_count": 12
  },
  {
   "cell_type": "markdown",
   "source": [
    "To account for the Dirichlet boundary conditions we use the `apply!` function.\n",
    "This modifies elements in `K` and `f` respectively, such that we can get the\n",
    "correct solution vector `u` by using solving the linear equation system $K_{ij} u_j = f^\\mathrm{ext}_i$,"
   ],
   "metadata": {}
  },
  {
   "outputs": [],
   "cell_type": "code",
   "source": [
    "apply!(K, f_ext, ch)\n",
    "u = K \\ f_ext;"
   ],
   "metadata": {},
   "execution_count": 13
  },
  {
   "cell_type": "markdown",
   "source": [
    "### Exporting to VTK\n",
    "To visualize the result we export the grid and our field, `u`,\n",
    "to a VTK-file, which can be viewed in e.g. [ParaView](https://www.paraview.org/).\n",
    "For fun we'll color the logo, and thus create cell data with numbers according\n",
    "to the logo colors."
   ],
   "metadata": {}
  },
  {
   "outputs": [],
   "cell_type": "code",
   "source": [
    "color_data = zeros(Int, getncells(grid))\n",
    "colors = Dict(\n",
    "    \"1\" => 1, \"5\" => 1, # purple\n",
    "    \"2\" => 2, \"3\" => 2, # red\n",
    "    \"4\" => 3,           # blue\n",
    "    \"6\" => 4            # green\n",
    "    )\n",
    "for (key, color) in colors\n",
    "    for i in getcellset(grid, key)\n",
    "        color_data[i] = color\n",
    "    end\n",
    "end"
   ],
   "metadata": {},
   "execution_count": 14
  },
  {
   "cell_type": "markdown",
   "source": [
    "And then we save to the vtk file."
   ],
   "metadata": {}
  },
  {
   "outputs": [],
   "cell_type": "code",
   "source": [
    "VTKGridFile(\"linear_elasticity\", dh) do vtk\n",
    "    write_solution(vtk, dh, u)\n",
    "    write_cell_data(vtk, color_data, \"colors\")\n",
    "end\n",
    "\n",
    "using Test                              #hide\n",
    "if Sys.islinux() # gmsh not os stable   #hide\n",
    "    @test norm(u) ≈ 0.31742879147646924 #hide\n",
    "end                                     #hide\n",
    "nothing                                 #hide"
   ],
   "metadata": {},
   "execution_count": 15
  },
  {
   "cell_type": "markdown",
   "source": [
    "---\n",
    "\n",
    "*This notebook was generated using [Literate.jl](https://github.com/fredrikekre/Literate.jl).*"
   ],
   "metadata": {}
  }
 ],
 "nbformat_minor": 3,
 "metadata": {
  "language_info": {
   "file_extension": ".jl",
   "mimetype": "application/julia",
   "name": "julia",
   "version": "1.10.4"
  },
  "kernelspec": {
   "name": "julia-1.10",
   "display_name": "Julia 1.10.4",
   "language": "julia"
  }
 },
 "nbformat": 4
}
